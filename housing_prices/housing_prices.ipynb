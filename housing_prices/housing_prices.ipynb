"""
Created on Tue Nov 28 20:16:38 2020

@author: Armando Alvarez Rolins

Title: Housing Prices Predictive Analysis

Description: Predict sales price for housing based on market data
"""
# Linear Algebra and Data Processing
import pandas as pd
import numpy as np
import sklearn as sk
import matplotlib
import matplotlib.pyplot as plt
# Feature Engineering tools
from sklearn.preprocessing import OneHotEncoder
from sklearn.impute import SimpleImputer
