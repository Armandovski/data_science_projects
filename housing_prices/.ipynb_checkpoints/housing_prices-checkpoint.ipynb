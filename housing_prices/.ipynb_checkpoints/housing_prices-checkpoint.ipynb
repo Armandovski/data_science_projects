{
 "cells": [
  {
   "cell_type": "code",
   "execution_count": null,
   "metadata": {},
   "outputs": [],
   "source": [
    "\"\"\"\n",
    "Created on Tue Nov 28 20:28:42 2020\n",
    "\n",
    "@author: Armando Alvarez Rolins\n",
    "\n",
    "Title: Housing Prices Predictive Analysis\n",
    "\n",
    "Description: Predict sales price for housing based on market data\n",
    "\"\"\"\n",
    "# Linear Algebra and Data Processing\n",
    "import numpy as np\n",
    "import pandas as pd\n",
    "import requests\n",
    "import os\n",
    "import datetime\n",
    "import matplotlib.pyplot as plt\n",
    "import sklearn as sk\n",
    "# Modeling\n",
    "from sklearn.model_selection import (train_test_split, GridSearchCV)\n",
    "from sklearn.linear_model import LogisticRegression\n",
    "from sklearn.ensemble import RandomForestClassifier\n",
    "#Random\n",
    "import random"
   ]
  },
  {
   "cell_type": "code",
   "execution_count": 6,
   "metadata": {},
   "outputs": [
    {
     "ename": "SyntaxError",
     "evalue": "invalid syntax (<ipython-input-6-85feb517bbcb>, line 6)",
     "output_type": "error",
     "traceback": [
      "\u001b[1;36m  File \u001b[1;32m\"<ipython-input-6-85feb517bbcb>\"\u001b[1;36m, line \u001b[1;32m6\u001b[0m\n\u001b[1;33m    print(/n)\u001b[0m\n\u001b[1;37m          ^\u001b[0m\n\u001b[1;31mSyntaxError\u001b[0m\u001b[1;31m:\u001b[0m invalid syntax\n"
     ]
    }
   ],
   "source": [
    "# Data Extraction\n",
    "df_house_test = pd.read_csv(\"./test.csv\")\n",
    "df_house_train = pd.read_csv(\"./train.csv\")\n",
    "\n",
    "print(df_house_test.info())\n",
    "print(\"\\n\")\n",
    "print(df_house_train.info())"
   ]
  },
  {
   "cell_type": "markdown",
   "metadata": {},
   "source": [
    "A brief look at the test and train data confirms they have the same number of features with the additional \"SalePrice\" which is the dependent variable we are going to predict on the test data set"
   ]
  }
 ],
 "metadata": {
  "kernelspec": {
   "display_name": "Python 3",
   "language": "python",
   "name": "python3"
  },
  "language_info": {
   "codemirror_mode": {
    "name": "ipython",
    "version": 3
   },
   "file_extension": ".py",
   "mimetype": "text/x-python",
   "name": "python",
   "nbconvert_exporter": "python",
   "pygments_lexer": "ipython3",
   "version": "3.8.5"
  }
 },
 "nbformat": 4,
 "nbformat_minor": 4
}
